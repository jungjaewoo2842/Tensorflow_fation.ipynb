model.evaluate(x_test, y_test) #실제로 평가 


pred_ys= model.predict(x_test) #프리딕트

print(pred_ys.shape)  
np.set_printoptions(precision=7)
print(pred_ys[0])



arg_pred_y = np.argmax(pred_ys, axis=1) #프레딕트 클래스에 이름이 맞는지 확인

plt.imshow(x_test[0].reshape(-1,28))
plt.title('Predicted class: {}'.format(class_names[arg_pred_y[0]]))
plt.show()



def plot_image(i,pred_ys,y_test, img):
    pred_ys, y_test, img=pred_ys[i], y_test[i], img[i]
    plt.grid(False) #이미지기 떄문에 false
    plt.xticks([])  #xticks와 ytick스 없애기
    plt.yticks([])

    plt.imshow(img, cmap= plt.cm.binary) #이미지 쇼 컬러맵= 바이너리형태

    predicted_label = np.argmax(pred_ys) #argmax(최대값)으로 레이블가져옴
    if predicted_label == y_test:  #예측값과 테스트값이 같을 경우 블루 다를경우 레드
        color = 'blue'
    else:
        color = 'red'

        plt.xlabel("{} {:2.0f}% ({}".format(class_names[predicted_label],               #앞두자리 소숫점 첫재까지, 실제 예측숫자를 클래스이름으로,퍼센테이지 값으로환산
                                                100*np.max(pred_ys),                    #실제 ytest 값을 클래스네임으로, color은color으로
                                                class_names[y_test]),color=color)
def plot_value_array(i,pred_ys, true_label):
    pred_ys, true_label = pred_ys[i], true_label[i] #i번쨰 값을 가져오기
    plt.grid(False)
    plt.xticks([])
    plt.yticks([])
    thisplot = plt.bar(range(10), pred_ys, color='#777777') #range 10, 색깔지정
    plt.ylim([0,1]) #ylim을 0~1까지
    predicted_label = np.argmax(pred_ys) #프리딕티드 레이블 값을 argmax 값으로 (pred_ys)

    thisplot[predicted_label].set_color('red') #예측값은 레드 진짜값은 블루
    thisplot[true_label].set_color('blue')



i=0   
plt.figure(figsize=(8,4)) #피규어 8,4
plt.subplot(1,2,1)
plot_image(i,pred_ys, y_test, x_test.reshape(-1, 28, 28)) #reshape해주기(이미지모양으로 만들기)
plt.subplot(1,2,2)
plot_value_array(i,pred_ys, y_test) # 얼만큼 확률로 맞췄는지 바로
plt.show()



i=40  #똑같이 40번째 값
plt.figure(figsize=(8,4))
plt.subplot(1,2,1)
plot_image(i,pred_ys, y_test, x_test.reshape(-1, 28, 28))
plt.subplot(1,2,2)
plot_value_array(i,pred_ys, y_test)
plt.show()



num_rows = 10 #10*3 행렬 갯수만들기
num_cols = 3
num_images = num_rows * num_cols

random_num = np.random.randint(10000, size=num_images)
plt.figure(figsize=(2*2*num_cols,2*num_rows)) 
for idx, num in enumerate(random_num): #enumerate의 랜덤갯수만큼 반복
    plt.subplot(num_rows, 2*num_cols, 2* idx+1)
    plot_image(num, pred_ys, y_test, x_test.reshape(-1,28,28)) #plot이미지 넣음 (reshape까지)
    plt.subplot(num_rows,2*num_cols,2*idx+2) 
    plot_value_array(num, pred_ys, y_test)  #바형태로 보여주게

plt.show()    
