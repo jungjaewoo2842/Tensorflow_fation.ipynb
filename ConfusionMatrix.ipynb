from tensorflow.keras.utils import to_categorical #케라스의 유틸에서 카테고리컬 임폴트

y_test_che = to_categorical(y_test) #y_Test값을 카테고리로 바꿈
y_test_che.shape 


from sklearn.metrics import classification_report, confusion_matrix  #혼동행렬 만들어주기
import seaborn as sns
sns.set(style='white')

plt.figure(figsize=(8,8))
cm = confusion_matrix(np.argmax(y_test_che, axis=-1), np.argmax(pred_ys, axis=-1))
sns.heatmap(cm, annot=True, fmt='d', cmap='Blues')
plt.xlabel('Predicted Label')
plt.ylabel('True Label')
plt.show()


