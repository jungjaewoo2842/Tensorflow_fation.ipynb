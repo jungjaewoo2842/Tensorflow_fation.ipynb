print("학습데이터 : {}\t레이블: {}".format(x_train_full.shape, y_train_full.shape)) #전체 학습데이터수
print("학습데이터 : {}\t레이블: {}".format(x_train.shape, y_train.shape))           #x트레인을 보여주는것
print("검증데이터 : {}\t레이블: {}".format(x_val.shape, y_val.shape))               #x val보여주는 것
print("테스트 데이터 : {}\t레이블: {}".format(x_test.shape, y_test.shape))          #test 보여주는 것
