model.compile(loss='sparse_categorical_crossentropy', # 로스는 스펄스 카테고리컬 크로스엔트로피 사용
              optimizer=Adam(learning_rate=0.01), #옵티마이저는 아담, 러닝레이트는 디폴트 0.01로설정
              metrics=['acc']) #매트릭스에 acc


history = model.fit(x_train, y_train,    #히스토리로 model.fit 각 트레인과 에폭스 배치사이즈, validation_data 설정
                    epochs=40,
                    batch_size=512,
                    validation_data=(x_val,y_val))




history.history.keys()  #히스토리 키 
history_dict = history.history #모델 시각화하는 코드

loss = history_dict['loss']
val_loss = history_dict['val_loss']

epochs=range(1, len(loss) + 1)
fig= plt.figure(figsize=(12,5))

ax1 = fig.add_subplot(1,2,1)
ax1.plot(epochs, loss, color = 'blue', label='train_loss')
ax1.plot(epochs, val_loss, color = 'red', label='val_loss')
ax1.set_title('Train and Validation Loss')
ax1.set_xlabel('Epochs')
ax1.set_ylabel('Loss')
ax1.grid()
ax1.legend()

accuracy= history_dict['acc']
val_accuracy=history_dict['val_acc']

ax2 = fig.add_subplot(1,2,2)
ax2.plot(epochs, accuracy, color = 'blue', label='train_accuracy')
ax2.plot(epochs, val_accuracy, color = 'red', label='val_accuracy')
ax2.set_title('Train and Validation Loss')
ax2.set_xlabel('Epochs')
ax2.set_ylabel('Loss')
ax2.grid()
ax2.legend()

plt.show()
