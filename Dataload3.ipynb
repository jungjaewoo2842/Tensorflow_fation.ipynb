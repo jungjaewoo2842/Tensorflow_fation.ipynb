class_names = ['T-shirt/top', 'Trouser', 'Pullover', 'Dress', 'Coat',
              'Sandal', 'Shirt', 'Sneaker', 'Bag', 'Ankie boot']

class_names[y_train[0]] #y트레인 0번째를 찾는 법 ( y트레인 0의 값은 2)
