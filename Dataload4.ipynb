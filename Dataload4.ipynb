plt.figure()            #직접 이미지로 보여주기 컬러바 띄우고
plt.imshow(x_train[0])
plt.colorbar()
plt.grid(False) #grid는 이미지를 보여줘야 하기 때문에 false로
plt.show()


num_sample=4 #4개를 띄우기 위해 샘플정의

random_idxs = np.random.randint(60000, size=num_sample)  # 랜덤인덱스를 60000개를 랜덤으로 잡고 nom_sample크기만큼

plt.figure(figsize=(15,10))  #fig사이즈를 지정하고 enumerate를 랜덤인덱스로 지정 
for i, idx in enumerate(random_idxs):
    image=x_train_full[idx, :]  #첫 인덱스(값)에서 이미지를 가져오기
    label=y_train_full[idx]     #레이블도 y인덱스에서 가져오기

    plt.subplot(1, len(random_idxs), #i+1) 총 4개를 표현하기위해 len정하기
    plt.imshow(image)       #이미지쇼도 표현
    plt.title('index: {}, label: {}' .format(idx, class_names[label]))  #인덱스값과 레이블 값 표시



