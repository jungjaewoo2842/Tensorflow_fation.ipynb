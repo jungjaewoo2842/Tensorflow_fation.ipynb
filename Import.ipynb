import tensorflow as tf
from tensorflow.keras.datasets.fashion_mnist import load_data  #케라스 mnist 데이터의 로드데이터사용
from tensorflow.keras.models import Sequential, Model   #모델데이터에서 시퀀셜이랑 모델 임폴트
from tensorflow.keras import models  #임폴트 모델스
from tensorflow.keras. layers import Dense, Input #레이어는 덴스와 인풋
from tensorflow.keras.optimizers import Adam #옵티마이저는 아담
from tensorflow.keras.utils import plot_model #유틸은 플롯 모델 임폴트

from sklearn.model_selection import train_test_split #모델 셀렉션에 트레인테스트스플릿 사용

import numpy as np  #넘파이 사용
import matplotlib.pyplot as plt #매트플롯 파이플롯 as plt 사용
plt.style.use('seaborn-white') #스타일 지정
