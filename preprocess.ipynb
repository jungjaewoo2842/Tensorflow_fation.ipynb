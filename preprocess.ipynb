x_train = (x_train.reshape(-1, 28*28))/255. #nomallzation을 하기위해 reshape(255로 나눔) 28*28이 flatten
x_val = (x_val.reshape(-1, 28*28))/255.
x_test = (x_test.reshape(-1, 28*28))/255.


input = Input(shape=(784,), name= 'input') #28*28사용 인풋만들기
hidden1 = Dense(512, activation='relu', name='hidden1')(input) #hidden dense크게만들고 점차 줄여가듯이 하나씩 내려갈떄마다 반씩줄이기
hidden2 = Dense(256, activation='relu', name='hidden2')(hidden1) 
hidden3 = Dense(128, activation='relu', name='hidden3')(hidden2)
hidden4 = Dense(64, activation='relu', name='hidden4')(hidden3)
hidden5 = Dense(32, activation='relu', name='hidden5')(hidden4)
output = Dense(10, activation='softmax', name='output')(hidden5) #최종결과는 10개 , 소프트맥스로 엑티베이션 각각 위의 것들을 참조
model = Model(inputs=[input], outputs=output)  #모델 만들기 input은 input넣고 out에 outpup
model.summary() #보여주기



plot_model(model)  #plot모델로 보여주기(시퀀셜)






