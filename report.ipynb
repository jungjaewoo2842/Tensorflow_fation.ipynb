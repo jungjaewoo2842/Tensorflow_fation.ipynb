print(classification_report(np.argmax(y_test_che, axis=-1),np.argmax(pred_ys,axis=-1)))  #마지막 분류보고서까지. 
