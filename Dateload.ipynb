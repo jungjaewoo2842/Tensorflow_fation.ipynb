tf.random.set_seed(111) #랜덤 셋 시드 111로 정의

(x_train_full, y_train_full), (x_test, y_test) = load_data() # 각 트레인 풀 값과 테스트 값 validation 만들기 위해 full로 이름 저장 fload_data에서 가져옴

x_train, x_val, y_train, y_val = train_test_split(x_train_full, y_train_full,  # val 나눠주고 test_split 함수를 통해 각 full에서
                                                  test_size=0.3,                #test_size, 즉 validation 을 30퍼센트를 확보 랜덤스테이트=111
                                                  random_state=111)
